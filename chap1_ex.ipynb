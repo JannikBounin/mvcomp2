{
 "cells": [
  {
   "cell_type": "markdown",
   "metadata": {},
   "source": [
    "\n",
    "#Chapter 1: Introduction and probability basics (exercises)"
   ]
  },
  {
   "cell_type": "markdown",
   "metadata": {},
   "source": [
    "###The assignment for next week is under the section **Exercises** and count for 100 points\n",
    "\n",
    "\n",
    "**Reminder from the guidelines**\n",
    "\n",
    "**This notebook has no meaning of imposing a format** to give us back your homework. It only gives me a convenient way to keep both texts and codes at the same place.\n",
    "\n",
    "\n",
    "\n",
    "* ** We do not mark your coding skills **, any language is possible, take the one that is convenient and efficient. \n",
    "* This means **we do not read the codes**. We do not look out for comments in the codes, but **we will not guess** what a plot means. Be explicit and describe even in once sentence what you did.\n",
    "\n",
    "* Feel free to use the notebooks (it may not be the most efficient), be careful when printing (Check out nbconvert to produce a pdf or even latex document)"
   ]
  },
  {
   "cell_type": "markdown",
   "metadata": {},
   "source": [
    "## Background Information"
   ]
  },
  {
   "cell_type": "markdown",
   "metadata": {},
   "source": [
    "#### Python comments\n",
    "**In python, most of the statistical functions are already coded and available within `scipy.stats`**\n",
    "\n",
    "Some versions of scipy, numpy, and matplotlib may have different calling sequences.\n",
    "Checkout the documentation to understand how to properly call/use them. Also Google is your friend."
   ]
  },
  {
   "cell_type": "code",
   "execution_count": null,
   "metadata": {
    "collapsed": false
   },
   "outputs": [],
   "source": [
    "# if you use the notebook only: pylab inline!\n",
    "%pylab inline            \n",
    "import numpy as np       # numerical package\n",
    "from scipy import stats  # most of the common distributions\n",
    "import pylab as plt      # matplotlib plotting library"
   ]
  },
  {
   "cell_type": "markdown",
   "metadata": {},
   "source": [
    "## Binomial\n",
    "\n",
    "This probability distribution describes processes in which an event can have only one of two possible outcomes, such as tossing a coin, detecting something at a security check, or winning the lottery, where $p$ is the probability of one event, call it \"success\" and (therefore) $1-p$ is the probability of the other event, call it \"failure\". If the trial is repeated independently n times, then we are interested in the probability of getting a total of exactly $r$ successes, call it $P (r \\mid p, n)$."
   ]
  },
  {
   "cell_type": "markdown",
   "metadata": {},
   "source": [
    "plot $P$ vs. $r$ for fixed $n$ and first a fixed $p$, then a range of $p$."
   ]
  },
  {
   "cell_type": "code",
   "execution_count": null,
   "metadata": {
    "collapsed": false
   },
   "outputs": [],
   "source": [
    "r = np.arange(0, 10, 1)\n",
    "p = np.arange(0.1, 0.9, 0.1)\n",
    "for pk in p:\n",
    "    p_r = stats.binom.pmf(r, n=10, p=pk)\n",
    "    plt.plot(r, p_r, 'o-', color='k', mfc='w',)\n",
    "plt.xlabel('r')\n",
    "plt.ylabel('P(r $\\mid$ n, p)');"
   ]
  },
  {
   "cell_type": "markdown",
   "metadata": {},
   "source": [
    "$P (r \\mid p, n)$ vs. $r$ for fixed $n=10$ for various values of $p$. The distribution is discrete: points are joined with lines just to help identification of the points with common $p$."
   ]
  },
  {
   "cell_type": "code",
   "execution_count": null,
   "metadata": {
    "collapsed": false
   },
   "outputs": [],
   "source": [
    "r = [1, 2, 3, 5, 9]\n",
    "p = np.arange(0., 1.01, 0.05)\n",
    "for rk in r:\n",
    "    p_r = stats.binom.pmf(rk, n=10, p=p)\n",
    "    plt.plot(p, p_r, 'o-', color='k', mfc='w')\n",
    "plt.xlabel('p')\n",
    "plt.ylabel('P(r $\\mid$ n, p)');"
   ]
  },
  {
   "cell_type": "markdown",
   "metadata": {},
   "source": [
    "$P (r \\mid p, n)$ vs. $p$ for fixed $n$ for various values of $r$. \n",
    "**Note that this latter plot is not a probability distribution function over $p$.**"
   ]
  },
  {
   "cell_type": "markdown",
   "metadata": {},
   "source": [
    "## Beta\n",
    "A convenient prior for some quantity $p$ bound to lie between $0$ and $1$, is the beta distribution, which is\n",
    "described by two parameters, the shape and scale."
   ]
  },
  {
   "cell_type": "markdown",
   "metadata": {},
   "source": [
    "## Poisson\n",
    "The binomial distribution describes events in which there is a definite event taking place which has a\n",
    "definite two way result: it's either a \"success\" or a \"failure\"; something happens or it doesn’t. A lot of\n",
    "natural processes are only \"one-way\", by which I mean it's clear if they happened but not clear if they\n",
    "didn't. For example, lightning strikes, α particle emission from a radioactive source. In these cases you\n",
    "can't count non-events because we cannot identify a sequence of events where something is supposed\n",
    "to happen or not. Suppose that on average these events occurs at a rate of $\\lambda$, so that $\\lambda$ is the expected\n",
    "number of events in some unit time. We would like to find the probability that we get $r$ events in this\n",
    "interval."
   ]
  },
  {
   "cell_type": "markdown",
   "metadata": {},
   "source": [
    "### Example: Radioactive decay\n",
    "\n",
    "Consider a radioactive source with half life $t_{1/2}$. If $N_0$ is the initial number of radioactive atoms, then\n",
    "the number left after time $t$ is given by\n",
    "$$N = N_0 \\exp(−t/\\tau ) = N_0 \\exp(−\\lambda t)$$\n",
    "\n",
    "where $\\tau = t_{1/2} / 2$. The mean (expected) number of decays per unit time is $\\lambda = 1/\\tau$ . The distribution of the number of decays per time interval is a Poisson distribution. To see this from a set of data, we record\n",
    "the time at which decay occurs, and then divide the entire time span up into constant intervals of unit time. We then count how many of these intervals have 0, 1, 2, 3, etc. decays. When normalized, this is approximately a Poisson distribution with mean $1/\\tau$.\n",
    "\n",
    "We can demonstrate this using a simulation of radioactive decay. Let’s assume a source has a decay time\n",
    "scale given by $\\lambda = 10$ (per unit time interval). The number of decays in any unit time interval can be\n",
    "simulated by drawing once from a Poisson distribution with this mean. We do this a large number of\n",
    "times to simulate the data. Based just on these data, we then count how many of these intervals\n",
    "have 0, 1, 2, 3, etc. decays. We then overplot on this with a Poisson density distribution, with a mean\n",
    "derived from the data, and scaled from a probability distribution to give the expected number of counts\n",
    "per time interval."
   ]
  },
  {
   "cell_type": "markdown",
   "metadata": {},
   "source": [
    "## Gaussian (Normal)\n",
    "\n",
    "The Gaussian or Normal distribution is probably the best known and most commonly used distribution\n",
    "in the physical sciences."
   ]
  },
  {
   "cell_type": "markdown",
   "metadata": {},
   "source": [
    "## Gamma\n",
    "\n",
    "The gamma distribution is a semi-infinite distribution: it is only non-zero for $x > 0$."
   ]
  },
  {
   "cell_type": "markdown",
   "metadata": {},
   "source": [
    "## Cauchy\n",
    "\n",
    "also known as Lorentz distribution.\n",
    "It is the distribution of a random variable that is the ratio of two independent standard normal variables."
   ]
  },
  {
   "cell_type": "markdown",
   "metadata": {},
   "source": [
    "## Exercices \n",
    "100 points in total"
   ]
  },
  {
   "cell_type": "markdown",
   "metadata": {},
   "source": [
    "**Exercise 1** (10 points)\n",
    "\n",
    "Make sure you can find your way with the coding language of your choice.\n",
    "Reproduce the plots given in the first chapter of the lecture notes.\n",
    "\n",
    "Binomial, Beta, Poisson, Gamma, Cauchy and example of radioactive decay."
   ]
  },
  {
   "cell_type": "code",
   "execution_count": null,
   "metadata": {
    "collapsed": true
   },
   "outputs": [],
   "source": []
  },
  {
   "cell_type": "markdown",
   "metadata": {},
   "source": [
    "** Exercise 2** (10 points)\n",
    "\n",
    "Imagine you make an experiement and measure a series of values.\n",
    "From the dataset `rvs.dat`, identify by eye which distribution likely generated these values. \n",
    "\n",
    "* Make a plot of the distribution and overlay what you think the distribution is. (Explain/Justify)\n",
    "\n",
    "_Tip_: this may be a distribution that is **not** in the lecture's notes."
   ]
  },
  {
   "cell_type": "code",
   "execution_count": null,
   "metadata": {
    "collapsed": true
   },
   "outputs": [],
   "source": []
  },
  {
   "cell_type": "markdown",
   "metadata": {},
   "source": [
    "**Exercise 3** (10 points)\n",
    "\n",
    "You have two boxes with red and blue balls in each. \n",
    "* Box $I$ has 3 red and 2 blue balls. \n",
    "* Box $II$ has 2 red and 8 blue balls. \n",
    "\n",
    "A fair coin is tossed. If it lands heads you take a ball at random from box $I$. \n",
    "If tails, you take a ball at random from box $II$. What is the probability that the ball is red?"
   ]
  },
  {
   "cell_type": "code",
   "execution_count": null,
   "metadata": {
    "collapsed": true
   },
   "outputs": [],
   "source": []
  },
  {
   "cell_type": "markdown",
   "metadata": {},
   "source": [
    "**Exercise 4** (10 points)\n",
    "\n",
    "Now someone else tosses the coin but doesn’t tell you whether it is head or tails. But she does tell you that a red ball was drawn. What is the probability that it was drawn from box $I$?"
   ]
  },
  {
   "cell_type": "code",
   "execution_count": null,
   "metadata": {
    "collapsed": true
   },
   "outputs": [],
   "source": []
  },
  {
   "cell_type": "markdown",
   "metadata": {},
   "source": [
    "**Exercise 5** (10 points)\n",
    "\n",
    "If the chance of finding life on one planet is 1 in $n$, and you search for life on $n$ planets, what is the\n",
    "probability of finding life on at least one planet? What is this in the limit as $n \\rightarrow \\infty$?"
   ]
  },
  {
   "cell_type": "code",
   "execution_count": null,
   "metadata": {
    "collapsed": true
   },
   "outputs": [],
   "source": []
  },
  {
   "cell_type": "markdown",
   "metadata": {},
   "source": [
    "**Exercise 6**  (10 points)\n",
    "\n",
    "In a room full of people, how many people do you have to ask before there is a 50% chance (or more) that any two or more of them share a common birthday? \n",
    "\n",
    "* What are your asssumptions?\n",
    "\n",
    "* make a code that plots this Probability as a function of N."
   ]
  },
  {
   "cell_type": "code",
   "execution_count": null,
   "metadata": {
    "collapsed": true
   },
   "outputs": [],
   "source": []
  },
  {
   "cell_type": "markdown",
   "metadata": {},
   "source": [
    "**Exercise 7**  (10 points)\n",
    "\n",
    "In a room full of people, how many people do you have to ask before there is a 50% chance (or more) that one of them shares your birthday?"
   ]
  },
  {
   "cell_type": "code",
   "execution_count": null,
   "metadata": {
    "collapsed": true
   },
   "outputs": [],
   "source": []
  },
  {
   "cell_type": "markdown",
   "metadata": {},
   "source": [
    "**Exercise 8**  (10 points)\n",
    "\n",
    "Show that the FWHM and IQR of the Cauchy distribution are equal to 2b. (10 points)\n",
    "\n",
    "Show that the mean, variance or any moment of the Cauchy distribution are undefined. (10 points)"
   ]
  },
  {
   "cell_type": "code",
   "execution_count": null,
   "metadata": {
    "collapsed": true
   },
   "outputs": [],
   "source": []
  },
  {
   "cell_type": "markdown",
   "metadata": {},
   "source": [
    "**Exercise 9**  (10 points)\n",
    "\n",
    "Children inherit a fair-mix of the genetic material of both of their parents. Blood type is one of the famous examples in this domain. Blood type O is a recessive gene feature, and thus requires that both parents transmit the blood type gene to the baby. However it is also the most common gene, almost everyone has this gene.\n",
    "\n",
    "* If you suppose that the probability of one parent to have a blood type O gene to be 1/2, what is the probability that a child born has a blood type O?\n",
    "\n",
    "If these parents have 5 children, \n",
    "\n",
    "* what is the probability that exactly 2 of them have type O blood? plot it for other values\n",
    "* What is the expected number of children with type O blood?\n",
    "* What is the probability of at least 2 children with type O blood?"
   ]
  },
  {
   "cell_type": "code",
   "execution_count": null,
   "metadata": {
    "collapsed": true
   },
   "outputs": [],
   "source": []
  },
  {
   "cell_type": "markdown",
   "metadata": {},
   "source": [
    "**Exercise 10**  (10 points)\n",
    "\n",
    "Let $X$ represent the fraction of the population in a certain city who obtain the flu vaccine.\n",
    "and $X$ follows a probability distribution $P(x) = 2 x$  (if $0\\leq x \\leq 1$).\n",
    "\n",
    "Note that this distribution is correctly normalized.\n",
    "\n",
    "* Find $P(1/4 \\leq X \\leq 1/2)$\n",
    "* Find $P(X > 1/2)$\n",
    "* What expectation and variance?"
   ]
  },
  {
   "cell_type": "code",
   "execution_count": null,
   "metadata": {
    "collapsed": true
   },
   "outputs": [],
   "source": []
  }
 ],
 "metadata": {
  "kernelspec": {
   "display_name": "Python 3",
   "language": "python",
   "name": "python3"
  },
  "language_info": {
   "codemirror_mode": {
    "name": "ipython",
    "version": 3
   },
   "file_extension": ".py",
   "mimetype": "text/x-python",
   "name": "python",
   "nbconvert_exporter": "python",
   "pygments_lexer": "ipython3",
   "version": "3.4.3"
  }
 },
 "nbformat": 4,
 "nbformat_minor": 0
}
