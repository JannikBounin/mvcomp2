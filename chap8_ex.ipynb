{
 "cells": [
  {
   "cell_type": "markdown",
   "metadata": {
    "collapsed": true,
    "slideshow": {
     "slide_type": "slide"
    }
   },
   "source": [
    "# Chapter 8: Hypothesis testing"
   ]
  },
  {
   "cell_type": "markdown",
   "metadata": {
    "slideshow": {
     "slide_type": "skip"
    }
   },
   "source": [
    "# Exercises"
   ]
  },
  {
   "cell_type": "markdown",
   "metadata": {},
   "source": [
    "## Exercice 1 (10 points)\n",
    "\n",
    "If $1000$ measurements are grouped into $25$ bins and then a curve is fitted to them which is the sum of a constant background and a Gaussian, how many degrees of freedom are there in the fit?"
   ]
  },
  {
   "cell_type": "markdown",
   "metadata": {},
   "source": [
    "# Exercise 2 (20 points)\n",
    "\n",
    "You have a set of $20$ data points and fit four different models to it: linear, quadratic, and cubic poylnomials, as well as a sinusoidal function. These fits give $\\chi^2$ values of $36$, $20$, $17$, and $29$, respectively. \n",
    "\n",
    "Calculate the appropriate p-values for each model fit.\n",
    "Which model do you choose (if any) as the best fit and why? What have you assumed? Is selection based on $\\chi^2$ appropriate and sufficient?"
   ]
  },
  {
   "cell_type": "markdown",
   "metadata": {},
   "source": [
    "## Exercise 3 (20 points)\n",
    "\n",
    "Ten temperatures are measured (in Kelvin), each with a precision of $0.2 K$: $10.2$, $10.4$, $9.8$, $10.5$, $9.9$, $9.8$, $10.3$, $10.1$, $10.3$, $9.9$. \n",
    "\n",
    "1. It is suggested that they are all measurements of the same thing, the dispersion being due only to the measurements errors. Is this true? To answer this, define an appropriate hypothesis and statistic, and perform an appropriate hypothesis test to calculate the p-value of your hypothesis.  \n",
    "\n",
    "2. How does your analysis and result change if it is suggested that they are imstead all measurements of the same true value of $10.1 K$?  "
   ]
  },
  {
   "cell_type": "markdown",
   "metadata": {},
   "source": [
    "## Exercise 4 (20 points)\n",
    "\n",
    "The exam scores of $16$ students in one group has a mean $107$ and standard deviation of $10$, while the scores of a second group of $14$ students has a mean of $112$ with a standard deviation of $8$. What is the probability that the two groups are different? \n",
    "\n",
    "_Hint_: first pose the question as an appropriate hypothesis test. What is the relevant statistic?\n"
   ]
  },
  {
   "cell_type": "markdown",
   "metadata": {
    "collapsed": true
   },
   "source": [
    "## Exercise 5 (30 points)\n",
    "\n",
    "Look at the `iswr_vitcap.data` dataset. Compare the \"vital capacity\" for the two groups. \n",
    "Use a t-test to decide whether they differ significantly. (In other words, how significant is the difference.)\n",
    "Calculate a 99% confidence interval for the difference. The result may be misleading.\n",
    "\n",
    "Look at the `iswr_vitcap.data` dataset. We want to compare the \"vital capacity\" for the two groups (labelled 1 and 3 in the data file). We will use a t-test to decide whether the two groups differ significantly. \n",
    "We adopt the null hypothesis that the difference in the means is zero.\n",
    "Calculate the p-value of this null hypothesis, and the 99% confidence interval on the difference of the means, assuming\n",
    "\n",
    "(a) that the standard deviations of the two groups are the same, and\n",
    "\n",
    "(b) that they are different."
   ]
  }
 ],
 "metadata": {
  "celltoolbar": "Slideshow",
  "kernelspec": {
   "display_name": "Python 3",
   "language": "python",
   "name": "python3"
  },
  "language_info": {
   "codemirror_mode": {
    "name": "ipython",
    "version": 3
   },
   "file_extension": ".py",
   "mimetype": "text/x-python",
   "name": "python",
   "nbconvert_exporter": "python",
   "pygments_lexer": "ipython3",
   "version": "3.4.3"
  }
 },
 "nbformat": 4,
 "nbformat_minor": 0
}
